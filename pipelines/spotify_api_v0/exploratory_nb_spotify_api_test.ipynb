{
 "cells": [
  {
   "cell_type": "code",
   "execution_count": 1,
   "metadata": {},
   "outputs": [],
   "source": [
    "## Installing Spotify's API library in Python\n",
    "\n",
    "# pip install spotipy"
   ]
  },
  {
   "cell_type": "code",
   "execution_count": 2,
   "metadata": {},
   "outputs": [],
   "source": [
    "## Importing libraries\n",
    "\n",
    "import sys\n",
    "import spotipy\n",
    "from spotipy.oauth2 import SpotifyClientCredentials\n",
    "import pandas as pd\n",
    "from datetime import datetime\n",
    "\n",
    "sys.path.append(\"/home/tabas/personal-dev/pyprojects\")\n",
    "import pipelines.utils.personal_env as penv"
   ]
  },
  {
   "cell_type": "code",
   "execution_count": 3,
   "metadata": {},
   "outputs": [],
   "source": [
    "# Importing Spotify Credentials\n",
    "\n",
    "CLIENT_ID = penv.spotify_client_id\n",
    "CLIENT_SECRET = penv.spotify_client_secret"
   ]
  },
  {
   "cell_type": "code",
   "execution_count": 4,
   "metadata": {},
   "outputs": [],
   "source": [
    "# Stablishing Spotify Authentication\n",
    "\n",
    "auth_manager = SpotifyClientCredentials(client_id=CLIENT_ID, client_secret=CLIENT_SECRET)\n",
    "sp = spotipy.Spotify(auth_manager=auth_manager)"
   ]
  },
  {
   "cell_type": "code",
   "execution_count": 5,
   "metadata": {},
   "outputs": [],
   "source": [
    "# Creating a list of all available markets on Spotify\n",
    "\n",
    "markets = [\n",
    "            \"AD\", \"AE\", \"AG\", \"AL\", #\"AM\", \"AO\", \"AR\", \"AT\", \"AU\", \"AZ\", \"BA\", \"BB\", \"BD\", \n",
    "            #\"BE\", \"BF\", \"BG\", \"BH\", \"BI\", \"BJ\", \"BN\", \"BO\", \"BR\", \"BS\", \"BT\", \"BW\", \"BY\", \n",
    "            #\"BZ\", \"CA\", \"CD\", \"CG\", \"CH\", \"CI\", \"CL\", \"CM\", \"CO\", \"CR\", \"CV\", \"CW\", \"CY\", \n",
    "            #\"CZ\", \"DE\", \"DJ\", \"DK\", \"DM\", \"DO\", \"DZ\", \"EC\", \"EE\", \"EG\", \"ES\", \"ET\", \"FI\", \n",
    "            #\"FJ\", \"FM\", \"FR\", \"GA\", \"GB\", \"GD\", \"GE\", \"GH\", \"GM\", \"GN\", \"GQ\", \"GR\", \"GT\", \n",
    "            #\"GW\", \"GY\", \"HK\", \"HN\", \"HR\", \"HT\", \"HU\", \"ID\", \"IE\", \"IL\", \"IN\", \"IQ\", \"IS\", \n",
    "            #\"IT\", \"JM\", \"JO\", \"JP\", \"KE\", \"KG\", \"KH\", \"KI\", \"KM\", \"KN\", \"KR\", \"KW\", \"KZ\", \n",
    "            #\"LA\", \"LB\", \"LC\", \"LI\", \"LK\", \"LR\", \"LS\", \"LT\", \"LU\", \"LV\", \"LY\", \"MA\", \"MC\", \n",
    "            #\"MD\", \"ME\", \"MG\", \"MH\", \"MK\", \"ML\", \"MN\", \"MO\", \"MR\", \"MT\", \"MU\", \"MV\", \"MW\", \n",
    "            #\"MX\", \"MY\", \"MZ\", \"NA\", \"NE\", \"NG\", \"NI\", \"NL\", \"NO\", \"NP\", \"NR\", \"NZ\", \"OM\", \n",
    "            #\"PA\", \"PE\", \"PG\", \"PH\", \"PK\", \"PL\", \"PR\", \"PS\", \"PT\", \"PW\", \"PY\", \"QA\", \"RO\", \n",
    "            #\"RS\", \"RW\", \"SA\", \"SB\", \"SC\", \"SE\", \"SG\", \"SI\", \"SK\", \"SL\", \"SM\", \"SN\", \"SR\", \n",
    "            #\"ST\", \"SV\", \"SZ\", \"TD\", \"TG\", \"TH\", \"TJ\", \"TL\", \"TN\", \"TO\", \"TR\", \"TT\", \"TV\", \n",
    "            #\"TW\", \"TZ\", \"UA\", \"UG\", \"US\", \"UY\", \"UZ\", \"VC\", \"VE\", \"VN\", \"VU\", \"WS\", \"XK\", \n",
    "            #\"ZA\", \"ZM\", \"ZW\"\n",
    "           ]"
   ]
  },
  {
   "cell_type": "markdown",
   "metadata": {},
   "source": [
    "### Getting latest releases"
   ]
  },
  {
   "cell_type": "code",
   "execution_count": 6,
   "metadata": {},
   "outputs": [],
   "source": [
    "## Creating empty DataFrame to append API values after request\n",
    "\n",
    "releases = pd.DataFrame()"
   ]
  },
  {
   "cell_type": "code",
   "execution_count": 7,
   "metadata": {},
   "outputs": [
    {
     "name": "stdout",
     "output_type": "stream",
     "text": [
      "Successfully got request from  AD market\n",
      "Successfully got request from  AE market\n",
      "Successfully got request from  AG market\n",
      "Successfully got request from  AL market\n"
     ]
    }
   ],
   "source": [
    "## Creating loop to make GET Request\n",
    "## The first request gets the list of new Albums released two weeks ago from each market defined above\n",
    "## Then, it collects the ids of the Artists of each release and makes the second request, \n",
    "## which returns the Artist's data\n",
    "\n",
    "for i in range(len(markets)):\n",
    "    \n",
    "    ## The Spotify only returns 50 values per request \n",
    "    # (the variables 'limit' and 'batchSize' helps Spotify not crash if the data exceeds )\n",
    "    \n",
    "    limit = 50\n",
    "    offset = 0\n",
    "    \n",
    "    while offset < 1000:    # Spotify limit for Search Request is 1000\n",
    "        \n",
    "        ## Making GET request of the type search with the tag:'new', that returns the latest Albums\n",
    "\n",
    "        newReleases = sp.search(q=\"tag:new\", market=markets[i], type=\"album\", limit=limit, offset=offset)\n",
    "        newReleasesData = pd.DataFrame.from_dict(newReleases['albums']['items'])\n",
    "        \n",
    "        releases = pd.concat([releases, newReleasesData])\n",
    "        releases['extractionTimestamp'] = datetime.today().strftime('%Y-%m-%d %X')\n",
    "        \n",
    "        # Incremental addition to offset to return the following pages of data\n",
    "        \n",
    "        offset=offset+limit\n",
    "        \n",
    "    print(\"Successfully got request from \", markets[i], \"market\")"
   ]
  },
  {
   "cell_type": "code",
   "execution_count": 8,
   "metadata": {},
   "outputs": [
    {
     "name": "stdout",
     "output_type": "stream",
     "text": [
      "<class 'pandas.core.frame.DataFrame'>\n",
      "Index: 4000 entries, 0 to 49\n",
      "Data columns (total 14 columns):\n",
      " #   Column                  Non-Null Count  Dtype \n",
      "---  ------                  --------------  ----- \n",
      " 0   album_type              4000 non-null   object\n",
      " 1   total_tracks            4000 non-null   int64 \n",
      " 2   is_playable             4000 non-null   bool  \n",
      " 3   external_urls           4000 non-null   object\n",
      " 4   href                    4000 non-null   object\n",
      " 5   id                      4000 non-null   object\n",
      " 6   images                  4000 non-null   object\n",
      " 7   name                    4000 non-null   object\n",
      " 8   release_date            4000 non-null   object\n",
      " 9   release_date_precision  4000 non-null   object\n",
      " 10  type                    4000 non-null   object\n",
      " 11  uri                     4000 non-null   object\n",
      " 12  artists                 4000 non-null   object\n",
      " 13  extractionTimestamp     4000 non-null   object\n",
      "dtypes: bool(1), int64(1), object(12)\n",
      "memory usage: 441.4+ KB\n"
     ]
    }
   ],
   "source": [
    "# Returning table info\n",
    "\n",
    "releases.info()"
   ]
  },
  {
   "cell_type": "code",
   "execution_count": 9,
   "metadata": {},
   "outputs": [],
   "source": [
    "## Treating some fields (renaming, extracting values, etc)\n",
    "\n",
    "releases['spotify_url'] = releases['external_urls'].apply(lambda x: x['spotify'] if isinstance(x, dict) else None)\n",
    "\n",
    "# Here, we are maintaining the id, uri and href in lists to facilitate in case we need to use them on the requests below\n",
    "\n",
    "releases['artist_uri'] = releases['artists'].apply(lambda artists: [artist['uri'] for artist in artists])\n",
    "releases['artist_href'] = releases['artists'].apply(lambda artists: [artist['href'] for artist in artists])\n",
    "releases['artist_id'] = releases['artists'].apply(lambda artists: [artist['id'] for artist in artists])\n"
   ]
  },
  {
   "cell_type": "code",
   "execution_count": 10,
   "metadata": {},
   "outputs": [],
   "source": [
    "# Dropping unnecessary and/or treated columns\n",
    "\n",
    "releases = releases.drop(columns=['external_urls', 'artists'])\n",
    "\n",
    "# Ordering columns\n",
    "\n",
    "releases = releases[[\n",
    "                    'id', \n",
    "                    'href', \n",
    "                    'uri', \n",
    "                    'spotify_url', \n",
    "                    'album_type', \n",
    "                    'total_tracks', \n",
    "                    'is_playable', \n",
    "                    'name', \n",
    "                    'release_date', \n",
    "                    'release_date_precision', \n",
    "                    'type', \n",
    "                    'artist_id', \n",
    "                    'artist_href', \n",
    "                    'artist_uri', \n",
    "                    'images', \n",
    "                    'extractionTimestamp']\n",
    "            ]"
   ]
  },
  {
   "cell_type": "code",
   "execution_count": 19,
   "metadata": {},
   "outputs": [],
   "source": [
    "# Removing duplicated release id \n",
    "\n",
    "releases = releases[releases.duplicated(subset='id') == False]"
   ]
  },
  {
   "cell_type": "code",
   "execution_count": 20,
   "metadata": {},
   "outputs": [
    {
     "name": "stdout",
     "output_type": "stream",
     "text": [
      "<class 'pandas.core.frame.DataFrame'>\n",
      "Index: 1428 entries, 0 to 37\n",
      "Data columns (total 16 columns):\n",
      " #   Column                  Non-Null Count  Dtype \n",
      "---  ------                  --------------  ----- \n",
      " 0   id                      1428 non-null   object\n",
      " 1   href                    1428 non-null   object\n",
      " 2   uri                     1428 non-null   object\n",
      " 3   spotify_url             1428 non-null   object\n",
      " 4   album_type              1428 non-null   object\n",
      " 5   total_tracks            1428 non-null   int64 \n",
      " 6   is_playable             1428 non-null   bool  \n",
      " 7   name                    1428 non-null   object\n",
      " 8   release_date            1428 non-null   object\n",
      " 9   release_date_precision  1428 non-null   object\n",
      " 10  type                    1428 non-null   object\n",
      " 11  artist_id               1428 non-null   object\n",
      " 12  artist_href             1428 non-null   object\n",
      " 13  artist_uri              1428 non-null   object\n",
      " 14  images                  1428 non-null   object\n",
      " 15  extractionTimestamp     1428 non-null   object\n",
      "dtypes: bool(1), int64(1), object(14)\n",
      "memory usage: 179.9+ KB\n"
     ]
    }
   ],
   "source": [
    "releases.info()"
   ]
  },
  {
   "cell_type": "markdown",
   "metadata": {},
   "source": [
    "### Getting artists "
   ]
  },
  {
   "cell_type": "code",
   "execution_count": 113,
   "metadata": {},
   "outputs": [],
   "source": [
    "## Creating empty DataFrame to append API values after request\n",
    "\n",
    "artists = pd.DataFrame()"
   ]
  },
  {
   "cell_type": "code",
   "execution_count": 114,
   "metadata": {},
   "outputs": [
    {
     "name": "stdout",
     "output_type": "stream",
     "text": [
      "Successfully got  3.32 % of Artists\n",
      "Successfully got  6.64 % of Artists\n",
      "Successfully got  9.95 % of Artists\n",
      "Successfully got  13.27 % of Artists\n",
      "Successfully got  16.59 % of Artists\n",
      "Successfully got  19.91 % of Artists\n",
      "Successfully got  23.22 % of Artists\n",
      "Successfully got  26.54 % of Artists\n",
      "Successfully got  29.86 % of Artists\n",
      "Successfully got  33.18 % of Artists\n",
      "Successfully got  36.5 % of Artists\n",
      "Successfully got  39.81 % of Artists\n",
      "Successfully got  43.13 % of Artists\n",
      "Successfully got  46.45 % of Artists\n",
      "Successfully got  49.77 % of Artists\n",
      "Successfully got  53.09 % of Artists\n",
      "Successfully got  56.4 % of Artists\n",
      "Successfully got  59.72 % of Artists\n",
      "Successfully got  63.04 % of Artists\n",
      "Successfully got  66.36 % of Artists\n",
      "Successfully got  69.67 % of Artists\n",
      "Successfully got  72.99 % of Artists\n",
      "Successfully got  76.31 % of Artists\n",
      "Successfully got  79.63 % of Artists\n",
      "Successfully got  82.95 % of Artists\n",
      "Successfully got  86.26 % of Artists\n",
      "Successfully got  89.58 % of Artists\n",
      "Successfully got  92.9 % of Artists\n",
      "Successfully got  96.22 % of Artists\n",
      "Successfully got  99.54 % of Artists\n",
      "Successfully got  102.85 % of Artists\n"
     ]
    }
   ],
   "source": [
    "## Making request to GET Artists' Data\n",
    "\n",
    "# Here we're accessing the Artist ID to make the loop request below \n",
    "# We transforme the arrays into sets to remove duplicates, and then convert it back to lists, so it can be used\n",
    "# on the API request\n",
    "        \n",
    "artistsList =  list(set(releases['artist_id'].explode()))\n",
    "\n",
    "batchSize = 50 # Spotify limit for Artist Request is 50\n",
    "        \n",
    "for j in range(0, len(artistsList), batchSize):\n",
    "    artistsBatch = artistsList[j:j + batchSize]\n",
    "    artistsData = sp.artists(artistsBatch)\n",
    "    artistsData = pd.DataFrame.from_dict(artistsData['artists'])  \n",
    "    artists = pd.concat([artists, artistsData])\n",
    "    artists['extractionTimestamp'] = datetime.today().strftime('%Y-%m-%d %X')\n",
    "    \n",
    "    print(\"Successfully got \", round(((j + batchSize)/len(artistsList)) * 100, 2), \"% of Artists\")"
   ]
  },
  {
   "cell_type": "code",
   "execution_count": 115,
   "metadata": {},
   "outputs": [
    {
     "name": "stdout",
     "output_type": "stream",
     "text": [
      "<class 'pandas.core.frame.DataFrame'>\n",
      "Index: 1507 entries, 0 to 6\n",
      "Data columns (total 11 columns):\n",
      " #   Column               Non-Null Count  Dtype \n",
      "---  ------               --------------  ----- \n",
      " 0   external_urls        1507 non-null   object\n",
      " 1   followers            1507 non-null   object\n",
      " 2   genres               1507 non-null   object\n",
      " 3   href                 1507 non-null   object\n",
      " 4   id                   1507 non-null   object\n",
      " 5   images               1507 non-null   object\n",
      " 6   name                 1507 non-null   object\n",
      " 7   popularity           1507 non-null   int64 \n",
      " 8   type                 1507 non-null   object\n",
      " 9   uri                  1507 non-null   object\n",
      " 10  extractionTimestamp  1507 non-null   object\n",
      "dtypes: int64(1), object(10)\n",
      "memory usage: 141.3+ KB\n"
     ]
    }
   ],
   "source": [
    "artists.info()"
   ]
  },
  {
   "cell_type": "code",
   "execution_count": 122,
   "metadata": {},
   "outputs": [
    {
     "data": {
      "text/html": [
       "<div>\n",
       "<style scoped>\n",
       "    .dataframe tbody tr th:only-of-type {\n",
       "        vertical-align: middle;\n",
       "    }\n",
       "\n",
       "    .dataframe tbody tr th {\n",
       "        vertical-align: top;\n",
       "    }\n",
       "\n",
       "    .dataframe thead th {\n",
       "        text-align: right;\n",
       "    }\n",
       "</style>\n",
       "<table border=\"1\" class=\"dataframe\">\n",
       "  <thead>\n",
       "    <tr style=\"text-align: right;\">\n",
       "      <th></th>\n",
       "      <th>id</th>\n",
       "      <th>href</th>\n",
       "      <th>uri</th>\n",
       "      <th>spotify_url</th>\n",
       "      <th>type</th>\n",
       "      <th>name</th>\n",
       "      <th>followers</th>\n",
       "      <th>popularity</th>\n",
       "      <th>genres</th>\n",
       "      <th>images</th>\n",
       "      <th>extractionTimestamp</th>\n",
       "    </tr>\n",
       "  </thead>\n",
       "  <tbody>\n",
       "    <tr>\n",
       "      <th>0</th>\n",
       "      <td>4nCeCLzpxBVKiK4PXR3Xi1</td>\n",
       "      <td>https://api.spotify.com/v1/artists/4nCeCLzpxBV...</td>\n",
       "      <td>spotify:artist:4nCeCLzpxBVKiK4PXR3Xi1</td>\n",
       "      <td>https://open.spotify.com/artist/4nCeCLzpxBVKiK...</td>\n",
       "      <td>artist</td>\n",
       "      <td>Dj Ryan Mpc</td>\n",
       "      <td>556</td>\n",
       "      <td>25</td>\n",
       "      <td>[]</td>\n",
       "      <td>[{'url': 'https://i.scdn.co/image/ab6761610000...</td>\n",
       "      <td>2025-02-06 10:58:53</td>\n",
       "    </tr>\n",
       "    <tr>\n",
       "      <th>1</th>\n",
       "      <td>6uZv9f2du7TdOlOr5IjLE1</td>\n",
       "      <td>https://api.spotify.com/v1/artists/6uZv9f2du7T...</td>\n",
       "      <td>spotify:artist:6uZv9f2du7TdOlOr5IjLE1</td>\n",
       "      <td>https://open.spotify.com/artist/6uZv9f2du7TdOl...</td>\n",
       "      <td>artist</td>\n",
       "      <td>Shabab Sabri</td>\n",
       "      <td>38479</td>\n",
       "      <td>48</td>\n",
       "      <td>[bollywood]</td>\n",
       "      <td>[{'url': 'https://i.scdn.co/image/ab6761610000...</td>\n",
       "      <td>2025-02-06 10:58:53</td>\n",
       "    </tr>\n",
       "    <tr>\n",
       "      <th>2</th>\n",
       "      <td>3Pny1kTPzgQoaB5pny2bta</td>\n",
       "      <td>https://api.spotify.com/v1/artists/3Pny1kTPzgQ...</td>\n",
       "      <td>spotify:artist:3Pny1kTPzgQoaB5pny2bta</td>\n",
       "      <td>https://open.spotify.com/artist/3Pny1kTPzgQoaB...</td>\n",
       "      <td>artist</td>\n",
       "      <td>Vishnu Sharma</td>\n",
       "      <td>238</td>\n",
       "      <td>3</td>\n",
       "      <td>[bhajan, devotional]</td>\n",
       "      <td>[{'url': 'https://i.scdn.co/image/ab67616d0000...</td>\n",
       "      <td>2025-02-06 10:58:53</td>\n",
       "    </tr>\n",
       "    <tr>\n",
       "      <th>3</th>\n",
       "      <td>3LGIFvM03aaCTDFYelZT6a</td>\n",
       "      <td>https://api.spotify.com/v1/artists/3LGIFvM03aa...</td>\n",
       "      <td>spotify:artist:3LGIFvM03aaCTDFYelZT6a</td>\n",
       "      <td>https://open.spotify.com/artist/3LGIFvM03aaCTD...</td>\n",
       "      <td>artist</td>\n",
       "      <td>DJ PSICO DE CAXIAS</td>\n",
       "      <td>2780</td>\n",
       "      <td>40</td>\n",
       "      <td>[funk carioca, brazilian funk]</td>\n",
       "      <td>[{'url': 'https://i.scdn.co/image/ab6761610000...</td>\n",
       "      <td>2025-02-06 10:58:53</td>\n",
       "    </tr>\n",
       "    <tr>\n",
       "      <th>4</th>\n",
       "      <td>1pRruDTNcEFpBPvpFZU76o</td>\n",
       "      <td>https://api.spotify.com/v1/artists/1pRruDTNcEF...</td>\n",
       "      <td>spotify:artist:1pRruDTNcEFpBPvpFZU76o</td>\n",
       "      <td>https://open.spotify.com/artist/1pRruDTNcEFpBP...</td>\n",
       "      <td>artist</td>\n",
       "      <td>Rupam Islam</td>\n",
       "      <td>323750</td>\n",
       "      <td>50</td>\n",
       "      <td>[bangla pop]</td>\n",
       "      <td>[{'url': 'https://i.scdn.co/image/ab6761610000...</td>\n",
       "      <td>2025-02-06 10:58:53</td>\n",
       "    </tr>\n",
       "  </tbody>\n",
       "</table>\n",
       "</div>"
      ],
      "text/plain": [
       "                       id                                               href  \\\n",
       "0  4nCeCLzpxBVKiK4PXR3Xi1  https://api.spotify.com/v1/artists/4nCeCLzpxBV...   \n",
       "1  6uZv9f2du7TdOlOr5IjLE1  https://api.spotify.com/v1/artists/6uZv9f2du7T...   \n",
       "2  3Pny1kTPzgQoaB5pny2bta  https://api.spotify.com/v1/artists/3Pny1kTPzgQ...   \n",
       "3  3LGIFvM03aaCTDFYelZT6a  https://api.spotify.com/v1/artists/3LGIFvM03aa...   \n",
       "4  1pRruDTNcEFpBPvpFZU76o  https://api.spotify.com/v1/artists/1pRruDTNcEF...   \n",
       "\n",
       "                                     uri  \\\n",
       "0  spotify:artist:4nCeCLzpxBVKiK4PXR3Xi1   \n",
       "1  spotify:artist:6uZv9f2du7TdOlOr5IjLE1   \n",
       "2  spotify:artist:3Pny1kTPzgQoaB5pny2bta   \n",
       "3  spotify:artist:3LGIFvM03aaCTDFYelZT6a   \n",
       "4  spotify:artist:1pRruDTNcEFpBPvpFZU76o   \n",
       "\n",
       "                                         spotify_url    type  \\\n",
       "0  https://open.spotify.com/artist/4nCeCLzpxBVKiK...  artist   \n",
       "1  https://open.spotify.com/artist/6uZv9f2du7TdOl...  artist   \n",
       "2  https://open.spotify.com/artist/3Pny1kTPzgQoaB...  artist   \n",
       "3  https://open.spotify.com/artist/3LGIFvM03aaCTD...  artist   \n",
       "4  https://open.spotify.com/artist/1pRruDTNcEFpBP...  artist   \n",
       "\n",
       "                 name  followers  popularity                          genres  \\\n",
       "0         Dj Ryan Mpc        556          25                              []   \n",
       "1        Shabab Sabri      38479          48                     [bollywood]   \n",
       "2       Vishnu Sharma        238           3            [bhajan, devotional]   \n",
       "3  DJ PSICO DE CAXIAS       2780          40  [funk carioca, brazilian funk]   \n",
       "4         Rupam Islam     323750          50                    [bangla pop]   \n",
       "\n",
       "                                              images  extractionTimestamp  \n",
       "0  [{'url': 'https://i.scdn.co/image/ab6761610000...  2025-02-06 10:58:53  \n",
       "1  [{'url': 'https://i.scdn.co/image/ab6761610000...  2025-02-06 10:58:53  \n",
       "2  [{'url': 'https://i.scdn.co/image/ab67616d0000...  2025-02-06 10:58:53  \n",
       "3  [{'url': 'https://i.scdn.co/image/ab6761610000...  2025-02-06 10:58:53  \n",
       "4  [{'url': 'https://i.scdn.co/image/ab6761610000...  2025-02-06 10:58:53  "
      ]
     },
     "execution_count": 122,
     "metadata": {},
     "output_type": "execute_result"
    }
   ],
   "source": [
    "## Returning Artists DataFrame\n",
    "\n",
    "artists.head()"
   ]
  },
  {
   "cell_type": "code",
   "execution_count": 117,
   "metadata": {},
   "outputs": [],
   "source": [
    "## Treating some fields (renaming, exploding the dicts, etc)\n",
    "\n",
    "artists['spotify_url'] = artists['external_urls'].apply(lambda x: x['spotify'] if isinstance(x, dict) else None)\n",
    "artists['followers'] = artists['followers'].apply(lambda x: x['total'] if isinstance(x, dict) else None)\n"
   ]
  },
  {
   "cell_type": "code",
   "execution_count": 119,
   "metadata": {},
   "outputs": [],
   "source": [
    "# Dropping unnecessary and/or treated columns\n",
    "\n",
    "artists = artists.drop(columns=['external_urls'])\n",
    "\n",
    "# Ordering columns\n",
    "\n",
    "artists = artists[[\n",
    "                    'id', \n",
    "                    'href', \n",
    "                    'uri', \n",
    "                    'spotify_url', \n",
    "                    'type',\n",
    "                    'name', \n",
    "                    'followers', \n",
    "                    'popularity', \n",
    "                    'genres', \n",
    "                    'images', \n",
    "                    'extractionTimestamp']\n",
    "]"
   ]
  },
  {
   "cell_type": "code",
   "execution_count": 121,
   "metadata": {},
   "outputs": [],
   "source": [
    "# Removing duplicated release id \n",
    "\n",
    "artists = artists[artists.duplicated(subset='id') == False]"
   ]
  },
  {
   "cell_type": "code",
   "execution_count": 126,
   "metadata": {},
   "outputs": [
    {
     "name": "stdout",
     "output_type": "stream",
     "text": [
      "<class 'pandas.core.frame.DataFrame'>\n",
      "Index: 1507 entries, 0 to 6\n",
      "Data columns (total 11 columns):\n",
      " #   Column               Non-Null Count  Dtype \n",
      "---  ------               --------------  ----- \n",
      " 0   id                   1507 non-null   object\n",
      " 1   href                 1507 non-null   object\n",
      " 2   uri                  1507 non-null   object\n",
      " 3   spotify_url          1507 non-null   object\n",
      " 4   type                 1507 non-null   object\n",
      " 5   name                 1507 non-null   object\n",
      " 6   followers            1507 non-null   int64 \n",
      " 7   popularity           1507 non-null   int64 \n",
      " 8   genres               1507 non-null   object\n",
      " 9   images               1507 non-null   object\n",
      " 10  extractionTimestamp  1507 non-null   object\n",
      "dtypes: int64(2), object(9)\n",
      "memory usage: 141.3+ KB\n"
     ]
    }
   ],
   "source": [
    "artists.info()"
   ]
  },
  {
   "cell_type": "code",
   "execution_count": 344,
   "metadata": {},
   "outputs": [],
   "source": [
    "## Let's get more data on this script\n",
    "## Now that we have New Releases information, we can make a request to collect further information about albums and tracks\n",
    "## Note that a new release can be an album or a single.\n",
    "## So, to get more data, we're going to make a Request to return more informations about albums (like tracks, for example)\n",
    "## And then, we are going to make a final request to return information about all tracks (single releases and tracks from the albums)"
   ]
  },
  {
   "cell_type": "code",
   "execution_count": 345,
   "metadata": {},
   "outputs": [],
   "source": [
    "## Creating empty DataFrame to append API values after request\n",
    "\n",
    "albums = pd.DataFrame()"
   ]
  },
  {
   "cell_type": "code",
   "execution_count": null,
   "metadata": {},
   "outputs": [],
   "source": [
    "# Again, using set and list to make the Album request below\n",
    "\n",
    "albumsList = list(set(releases['id']))\n",
    "\n",
    "# Redefining batchSize variable\n",
    "\n",
    "batchSize = 20 # Spotify limit for Album Request is 20\n",
    "\n",
    "for k in range(0, len(albumsList), batchSize):\n",
    "    \n",
    "    albumsData = sp.albums(albumsList[k:k + batchSize])\n",
    "    albumsData = pd.DataFrame.from_dict(albumsData['albums'])\n",
    "    albums = pd.concat([albums, albumsData])\n",
    "    albums['extractionTimestamp'] = datetime.today().strftime('%Y-%m-%d %X')\n",
    "    \n",
    "    print(\"Successfully got \", round((k + batchSize) / len(albumsList) * 100, 2), \"% of albums\")"
   ]
  },
  {
   "cell_type": "code",
   "execution_count": null,
   "metadata": {},
   "outputs": [],
   "source": [
    "albums.info()"
   ]
  },
  {
   "cell_type": "code",
   "execution_count": null,
   "metadata": {},
   "outputs": [],
   "source": [
    "albums.head()"
   ]
  },
  {
   "cell_type": "code",
   "execution_count": 349,
   "metadata": {},
   "outputs": [],
   "source": [
    "## Treating some fields (renaming, extracting values, etc)\n",
    "\n",
    "albums['spotify_url'] = pd.json_normalize(albums['external_urls'])\n",
    "\n",
    "albums['artist_id'] = albums['artists'].apply(lambda artists: [artist['id'] for artist in artists])\n",
    "albums['artist_href'] = albums['artists'].apply(lambda artists: [artist['href'] for artist in artists])\n",
    "albums['artist_uri'] = albums['artists'].apply(lambda artists: [artist['uri'] for artist in artists])\n",
    "\n",
    "albums['track_id'] = pd.json_normalize(albums['tracks'])['items'].apply(lambda x: [track['id'] for track in x] if isinstance(x, list) else [])\n",
    "albums['track_href'] = pd.json_normalize(albums['tracks'])['items'].apply(lambda x: [track['href'] for track in x] if isinstance(x, list) else [])\n",
    "albums['track_uri'] = pd.json_normalize(albums['tracks'])['items'].apply(lambda x: [track['uri'] for track in x] if isinstance(x, list) else [])"
   ]
  },
  {
   "cell_type": "code",
   "execution_count": 350,
   "metadata": {},
   "outputs": [],
   "source": [
    "# Removing unnecessary and/or treated columns\n",
    "\n",
    "#albums = albums.drop(columns=['external_urls', 'artists', 'tracks', 'genres']) \n",
    "\n",
    "# Ordering columns\n",
    "\n",
    "albums = albums[[\n",
    "                'id', \n",
    "                'href',\n",
    "                'uri',\n",
    "                'spotify_url',\n",
    "                'album_type',\n",
    "                'total_tracks',  \n",
    "                'name', \n",
    "                'available_markets',\n",
    "                'release_date', \n",
    "                'release_date_precision', \n",
    "                'type', \n",
    "                'artist_id', \n",
    "                'artist_href', \n",
    "                'artist_uri', \n",
    "                'track_id',\n",
    "                'track_href',\n",
    "                'track_uri',\n",
    "                'popularity',\n",
    "                'label',\n",
    "                'copyrights',\n",
    "                'external_ids',                \n",
    "                'images', \n",
    "                'extractionTimestamp']\n",
    "            ]\n"
   ]
  },
  {
   "cell_type": "code",
   "execution_count": 351,
   "metadata": {},
   "outputs": [],
   "source": [
    "# Removing duplicated release di \n",
    "\n",
    "albums = albums[albums.duplicated(subset='id') == False]"
   ]
  },
  {
   "cell_type": "code",
   "execution_count": null,
   "metadata": {},
   "outputs": [],
   "source": [
    "albums.head()"
   ]
  },
  {
   "cell_type": "code",
   "execution_count": 353,
   "metadata": {},
   "outputs": [],
   "source": [
    "## Now, we are going to get all tracks data\n",
    "## Spotify provides general informations about Tracks, Audio Features and Audio Analysis"
   ]
  },
  {
   "cell_type": "code",
   "execution_count": 354,
   "metadata": {},
   "outputs": [],
   "source": [
    "## Creating dataframe to append data\n",
    "\n",
    "tracks = pd.DataFrame()"
   ]
  },
  {
   "cell_type": "code",
   "execution_count": null,
   "metadata": {},
   "outputs": [],
   "source": [
    "# Creating list of Track ids\n",
    "\n",
    "tracksList = list(set(albums['track_id'].explode()))\n",
    "\n",
    "# Redefining batchSize variable\n",
    "\n",
    "batchSize = 50 # Spotify limit for Track Request is 50\n",
    "\n",
    "for k in range(0, len(tracksList), batchSize):\n",
    "    tracksData = sp.tracks(tracksList[k:k + batchSize])\n",
    "    tracksData = pd.DataFrame.from_dict(tracksData['tracks'])\n",
    "    \n",
    "    tracks = pd.concat([tracks, tracksData])\n",
    "    \n",
    "    print(\"Successfully got \", round((k + batchSize) / len(tracksList) * 100, 2), \"% of tracks\")"
   ]
  },
  {
   "cell_type": "code",
   "execution_count": null,
   "metadata": {},
   "outputs": [],
   "source": [
    "tracks['artist_id'] = tracks['artists'].apply(lambda artists: [artist['id'] for artist in artists])\n",
    "tracks['artist_href'] = tracks['artists'].apply(lambda artists: [artist['href'] for artist in artists])\n",
    "tracks['artist_uri'] = tracks['artists'].apply(lambda artists: [artist['uri'] for artist in artists])\n",
    "\n",
    "tracks['album_id'] = pd.json_normalize(tracks['album'])['id']\n",
    "tracks['album_href'] = pd.json_normalize(tracks['album'])['href']\n",
    "tracks['album_uri'] = pd.json_normalize(tracks['album'])['uri']"
   ]
  },
  {
   "cell_type": "code",
   "execution_count": 11,
   "metadata": {},
   "outputs": [],
   "source": [
    "## Importing Credentials from Google Cloud\n",
    "\n",
    "from google.cloud import storage\n",
    "from google.oauth2 import service_account\n",
    "\n",
    "CREDENTIALS = service_account.Credentials.from_service_account_file(penv.bq_path)\n",
    "STORAGE = storage.Client(credentials=CREDENTIALS)"
   ]
  },
  {
   "cell_type": "code",
   "execution_count": 12,
   "metadata": {},
   "outputs": [],
   "source": [
    "# Acessing Bucket Path\n",
    "\n",
    "bucket = STORAGE.get_bucket(penv.bucket_path)"
   ]
  },
  {
   "cell_type": "code",
   "execution_count": 108,
   "metadata": {},
   "outputs": [],
   "source": [
    "# Getting currentTimestamp\n",
    "\n",
    "currentTimestamp = datetime.today().strftime('%Y-%m-%d %X')\n",
    "\n",
    "# Adding currentTimestamp on file name, so it doesn't overwrite itself. \n",
    "# Also, it helps keep track on incremental models\n",
    "\n",
    "file_name = f\"spotify_api_test_data__{currentTimestamp}\""
   ]
  },
  {
   "cell_type": "code",
   "execution_count": 123,
   "metadata": {},
   "outputs": [],
   "source": [
    "df = artists"
   ]
  },
  {
   "cell_type": "code",
   "execution_count": 19,
   "metadata": {},
   "outputs": [],
   "source": [
    "## Defining a function called avro_df_prep to prepare the dataframe for the Avro format\n",
    "\n",
    "def avro_df_prep():\n",
    "\n",
    "    # pip install fastavro\n",
    "\n",
    "    from fastavro import writer, parse_schema\n",
    "\n",
    "    # Converting all columns to string, because Avro doesn't support object type\n",
    "\n",
    "    columns_to_convert = [  # Lista de colunas definidas no esquema Avro\n",
    "        'album_type', 'external_urls', 'href',\n",
    "       'id', 'images', 'name', 'release_date', 'release_date_precision',\n",
    "       'type', 'uri', 'artists', 'restrictions']\n",
    "\n",
    "    df[columns_to_convert] = df[columns_to_convert].astype(str)\n",
    "\n",
    "    # Declaring dataframe schema\n",
    "\n",
    "    schema = {\n",
    "        'name': 'spotify'\n",
    "        , 'type': 'record'\n",
    "        , 'fields': [\n",
    "                        {'name': 'album_type', 'type': 'string'}, \n",
    "                        {'name': 'total_tracks', 'type': 'int'}, \n",
    "                        {'name': 'is_playable', 'type': 'boolean'}, \n",
    "                        {'name': 'external_urls', 'type': 'string'},\n",
    "                        {'name': 'id', 'type': 'string'},\n",
    "                        {'name': 'images', 'type': 'string'},  \n",
    "                        {'name': 'name', 'type': 'string'}, \n",
    "                        {'name': 'release_date', 'type': 'string'}, \n",
    "                        {'name': 'release_date_precision', 'type': 'string'}, \n",
    "                        {'name': 'href', 'type': 'string'}, \n",
    "                        {'name': 'type', 'type': 'string'}, \n",
    "                        {'name': 'uri', 'type': 'string'}, \n",
    "                        {'name': 'artists', 'type': 'string'}, \n",
    "                        {'name': 'restrictions', 'type': 'string'}, \n",
    "                    ]\n",
    "    }\n",
    "\n",
    "    parsed_schema = parse_schema(schema)\n",
    "    records = df.to_dict('records')\n",
    "\n",
    "    # Writing an Avro file on 'archive' directory\n",
    "\n",
    "    with open(f'/home/tabas/personal-dev/pyprojects/pipelines/archive/{file_name}.avro', 'wb') as out:\n",
    "       writer(out, parsed_schema, records)\n",
    "            "
   ]
  },
  {
   "cell_type": "code",
   "execution_count": null,
   "metadata": {},
   "outputs": [],
   "source": [
    "avro_df_prep()"
   ]
  },
  {
   "cell_type": "code",
   "execution_count": 124,
   "metadata": {},
   "outputs": [
    {
     "name": "stdout",
     "output_type": "stream",
     "text": [
      "Begin at:  2025-02-06 10:59:50\n",
      "Sucessfully written in  parquet\n",
      "End at:  2025-02-06 10:59:51\n"
     ]
    }
   ],
   "source": [
    "## Writing Dataframe to Bucket folder with desired file format \n",
    "\n",
    "file_formats = [\n",
    "                #'csv'\n",
    "                 'parquet'\n",
    "                #, 'json'\n",
    "                #, 'orc'\n",
    "                #, 'avro'\n",
    "]\n",
    "\n",
    "for i in range(len(file_formats)):\n",
    "    \n",
    "    blob = bucket.blob(f\"{penv.bucket_folder}/{file_name}.{file_formats[i]}\")\n",
    "    \n",
    "    if file_formats[i] == 'csv':\n",
    "        print(\"Begin at: \", datetime.today().strftime('%Y-%m-%d %X'))\n",
    "        blob.upload_from_string(df.to_csv(), '/text/csv')\n",
    "        print(\"Sucessfully written in \", file_formats[i])\n",
    "        print(\"End at: \", datetime.today().strftime('%Y-%m-%d %X'))\n",
    "        \n",
    "    if file_formats[i] == 'parquet':\n",
    "        print(\"Begin at: \", datetime.today().strftime('%Y-%m-%d %X'))\n",
    "        blob.upload_from_string(df.to_parquet(), '/text/plain')\n",
    "        print(\"Sucessfully written in \", file_formats[i])\n",
    "        print(\"End at: \", datetime.today().strftime('%Y-%m-%d %X'))\n",
    "        \n",
    "    if file_formats[i] == 'json':\n",
    "        print(\"Begin at: \", datetime.today().strftime('%Y-%m-%d %X'))\n",
    "        blob.upload_from_string(df.to_json(orient='table'), '/text/plain')\n",
    "        print(\"Sucessfully written in \", file_formats[i])\n",
    "        print(\"End at: \", datetime.today().strftime('%Y-%m-%d %X'))\n",
    "        \n",
    "    if file_formats[i] == 'orc':\n",
    "        print(\"Begin at: \", datetime.today().strftime('%Y-%m-%d %X'))\n",
    "        blob.upload_from_string(df.reset_index().to_orc(index=None), '/text/plain')\n",
    "        print(\"Sucessfully written in \", file_formats[i])        \n",
    "        print(\"End at: \", datetime.today().strftime('%Y-%m-%d %X'))\n",
    "        \n",
    "    if file_formats[i] == 'avro':\n",
    "        print(\"Begin at: \", datetime.today().strftime('%Y-%m-%d %X'))\n",
    "        avro_df_prep()\n",
    "        blob.upload_from_filename(f'/home/tabas/personal-dev/pyprojects/pipelines/archive/{file_name}.avro', 'wb', '/text/plain')\n",
    "        print(\"Sucessfully written in \", file_formats[i])        \n",
    "        print(\"End at: \", datetime.today().strftime('%Y-%m-%d %X'))"
   ]
  },
  {
   "cell_type": "code",
   "execution_count": 17,
   "metadata": {},
   "outputs": [],
   "source": [
    "## This section is focused on understanding the data to find if further treatment is necessary\n",
    "## Throuhgout the notebook, I've made some treatments base on what I've seen executiong the commands here in the notebook\n",
    "## , but now I'm going to bring each dataframe (releases, artists, albums, tracks) to BigQuery and do some querying there"
   ]
  },
  {
   "cell_type": "code",
   "execution_count": 18,
   "metadata": {},
   "outputs": [
    {
     "data": {
      "text/plain": [
       "\" Releases (before removing duplicated values)\\n\\n- album_type: 'single', 'album', 'compilation';\\n- release_date: minimum value is 2 weeks before today;\\n- release_date_precision: take only value 'day';\\n- type: take only value 'album';\\n\\n- Querying the distinct data, we get 1428 unique releases and 1507 unique artists;\\nSELECT \\n  COUNT(DISTINCT id) AS qtd_release\\n  , COUNT(DISTINCT element) AS qtd_artists\\nFROM df_releases` \\n  , UNNEST(artist_id.list) AS art_id\\nLIMIT 1000\\n\\n\""
      ]
     },
     "execution_count": 18,
     "metadata": {},
     "output_type": "execute_result"
    }
   ],
   "source": [
    "\"\"\" Releases (before removing duplicated values)\n",
    "\n",
    "Run made 06/02/2025 10:05\n",
    "\n",
    "- album_type: 'single', 'album', 'compilation';\n",
    "- release_date: minimum value is 2 weeks before today;\n",
    "- release_date_precision: take only value 'day';\n",
    "- type: take only value 'album';\n",
    "\n",
    "\n",
    "- Querying the distinct data, we get 1428 unique releas1es and 1507 unique artists;\n",
    "SELECT \n",
    "  COUNT(DISTINCT id) AS qtd_release\n",
    "  , COUNT(DISTINCT element) AS qtd_artists\n",
    "FROM df_releases` \n",
    "  , UNNEST(artist_id.list) AS art_id\n",
    "LIMIT 1000\n",
    "\n",
    "- Checking if duplicated ids have indeed all the same values on all the columns id = '0hYiEucmpqclKoXxkBiIPS' as example) \n",
    "SELECT \n",
    "  *\n",
    "FROM `tabas-dw-stg.stg_juliana.test_releases` \n",
    "  , UNNEST(artist_id.list) AS art_id\n",
    "WHERE id = '0hYiEucmpqclKoXxkBiIPS' \n",
    "\n",
    "\"\"\""
   ]
  },
  {
   "cell_type": "code",
   "execution_count": null,
   "metadata": {},
   "outputs": [],
   "source": [
    "\"\"\" Artists \n",
    "\n",
    "Run made 06/02/2025 10:07\n",
    "\n",
    "- genres: list of values - initially, I treated this field extracting the values from the list and maintaining \n",
    "        them solely on comma separated values, but on BigQuery it's possible to unnest values easily, so I \n",
    "        changed it back to original format;\n",
    "- type: take only value 'artist';\n",
    "- followers: total followers the artist has on Spotify profile - initially, the amount was divergent from what it was\n",
    "        being shown on Spotify's page. I used json_normalize() to treat this field, but on investigation I've discovered \n",
    "        that it was atributing the wrong values. Using lambda function, it worked;\n",
    "- popularity: goes from 0 to 100 - the artist's popularity is calculated from the popularity of all the artist's tracks.\n",
    "\n",
    "- After running artists dataframe, we realize that it returned 1507 artists (as expected from above).\n",
    "\n",
    "\"\"\""
   ]
  },
  {
   "cell_type": "code",
   "execution_count": 125,
   "metadata": {},
   "outputs": [
    {
     "data": {
      "text/html": [
       "<div>\n",
       "<style scoped>\n",
       "    .dataframe tbody tr th:only-of-type {\n",
       "        vertical-align: middle;\n",
       "    }\n",
       "\n",
       "    .dataframe tbody tr th {\n",
       "        vertical-align: top;\n",
       "    }\n",
       "\n",
       "    .dataframe thead th {\n",
       "        text-align: right;\n",
       "    }\n",
       "</style>\n",
       "<table border=\"1\" class=\"dataframe\">\n",
       "  <thead>\n",
       "    <tr style=\"text-align: right;\">\n",
       "      <th></th>\n",
       "      <th>id</th>\n",
       "      <th>href</th>\n",
       "      <th>uri</th>\n",
       "      <th>spotify_url</th>\n",
       "      <th>type</th>\n",
       "      <th>name</th>\n",
       "      <th>followers</th>\n",
       "      <th>popularity</th>\n",
       "      <th>genres</th>\n",
       "      <th>images</th>\n",
       "      <th>extractionTimestamp</th>\n",
       "    </tr>\n",
       "  </thead>\n",
       "  <tbody>\n",
       "    <tr>\n",
       "      <th>32</th>\n",
       "      <td>6xlRSRMLgZbsSNd0BMobwy</td>\n",
       "      <td>https://api.spotify.com/v1/artists/6xlRSRMLgZb...</td>\n",
       "      <td>spotify:artist:6xlRSRMLgZbsSNd0BMobwy</td>\n",
       "      <td>https://open.spotify.com/artist/6xlRSRMLgZbsSN...</td>\n",
       "      <td>artist</td>\n",
       "      <td>DENNIS</td>\n",
       "      <td>2267224</td>\n",
       "      <td>67</td>\n",
       "      <td>[funk, brazilian funk, funk carioca, funk pop,...</td>\n",
       "      <td>[{'url': 'https://i.scdn.co/image/ab6761610000...</td>\n",
       "      <td>2025-02-06 10:58:53</td>\n",
       "    </tr>\n",
       "  </tbody>\n",
       "</table>\n",
       "</div>"
      ],
      "text/plain": [
       "                        id                                               href  \\\n",
       "32  6xlRSRMLgZbsSNd0BMobwy  https://api.spotify.com/v1/artists/6xlRSRMLgZb...   \n",
       "\n",
       "                                      uri  \\\n",
       "32  spotify:artist:6xlRSRMLgZbsSNd0BMobwy   \n",
       "\n",
       "                                          spotify_url    type    name  \\\n",
       "32  https://open.spotify.com/artist/6xlRSRMLgZbsSN...  artist  DENNIS   \n",
       "\n",
       "    followers  popularity                                             genres  \\\n",
       "32    2267224          67  [funk, brazilian funk, funk carioca, funk pop,...   \n",
       "\n",
       "                                               images  extractionTimestamp  \n",
       "32  [{'url': 'https://i.scdn.co/image/ab6761610000...  2025-02-06 10:58:53  "
      ]
     },
     "execution_count": 125,
     "metadata": {},
     "output_type": "execute_result"
    }
   ],
   "source": [
    "artists[artists['id'] == '6xlRSRMLgZbsSNd0BMobwy']"
   ]
  },
  {
   "cell_type": "code",
   "execution_count": 44,
   "metadata": {},
   "outputs": [
    {
     "data": {
      "text/plain": [
       "{'external_urls': {'spotify': 'https://open.spotify.com/artist/6xlRSRMLgZbsSNd0BMobwy'},\n",
       " 'followers': {'href': None, 'total': 2267224},\n",
       " 'genres': ['funk',\n",
       "  'brazilian funk',\n",
       "  'funk carioca',\n",
       "  'funk pop',\n",
       "  'funk melody'],\n",
       " 'href': 'https://api.spotify.com/v1/artists/6xlRSRMLgZbsSNd0BMobwy',\n",
       " 'id': '6xlRSRMLgZbsSNd0BMobwy',\n",
       " 'images': [{'url': 'https://i.scdn.co/image/ab6761610000e5eb4ca8b241787391c0d625a162',\n",
       "   'height': 640,\n",
       "   'width': 640},\n",
       "  {'url': 'https://i.scdn.co/image/ab676161000051744ca8b241787391c0d625a162',\n",
       "   'height': 320,\n",
       "   'width': 320},\n",
       "  {'url': 'https://i.scdn.co/image/ab6761610000f1784ca8b241787391c0d625a162',\n",
       "   'height': 160,\n",
       "   'width': 160}],\n",
       " 'name': 'DENNIS',\n",
       " 'popularity': 67,\n",
       " 'type': 'artist',\n",
       " 'uri': 'spotify:artist:6xlRSRMLgZbsSNd0BMobwy'}"
      ]
     },
     "execution_count": 44,
     "metadata": {},
     "output_type": "execute_result"
    }
   ],
   "source": [
    "sp.artist('6xlRSRMLgZbsSNd0BMobwy')"
   ]
  },
  {
   "cell_type": "markdown",
   "metadata": {},
   "source": []
  }
 ],
 "metadata": {
  "kernelspec": {
   "display_name": "Python 3",
   "language": "python",
   "name": "python3"
  },
  "language_info": {
   "codemirror_mode": {
    "name": "ipython",
    "version": 3
   },
   "file_extension": ".py",
   "mimetype": "text/x-python",
   "name": "python",
   "nbconvert_exporter": "python",
   "pygments_lexer": "ipython3",
   "version": "3.10.12"
  }
 },
 "nbformat": 4,
 "nbformat_minor": 2
}
